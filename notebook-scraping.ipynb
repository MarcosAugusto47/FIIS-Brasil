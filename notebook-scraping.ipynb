{
 "cells": [
  {
   "cell_type": "code",
   "execution_count": 26,
   "metadata": {},
   "outputs": [],
   "source": [
    "import re \n",
    "import datetime\n",
    "import pandas as pd\n",
    "\n",
    "import urllib.request as urllib_request\n",
    "from urllib.error import URLError, HTTPError\n",
    "\n",
    "from utils.helpers import *\n",
    "from utils.functions import *\n",
    "pd.set_option('display.max_columns', 100)\n",
    "pd.set_option('display.max_rows', None)"
   ]
  },
  {
   "cell_type": "code",
   "execution_count": 27,
   "metadata": {},
   "outputs": [],
   "source": [
    "URL = 'https://fiis.com.br/lista-de-fundos-imobiliarios/'\n",
    "soup = create_bsoup_object(URL)\n",
    "tickers = get_tickers(soup)"
   ]
  },
  {
   "cell_type": "code",
   "execution_count": 28,
   "metadata": {},
   "outputs": [
    {
     "name": "stdout",
     "output_type": "stream",
     "text": [
      "ABCP11\n",
      "AFHI11\n",
      "AFOF11\n",
      "AIEC11\n",
      "ALMI11\n",
      "ALZR11\n",
      "ANCR11B\n",
      "APTO11\n",
      "ARCT11\n",
      "ARRI11\n"
     ]
    }
   ],
   "source": [
    "dataset = create_fiis_dataframe(tickers[0:10])"
   ]
  },
  {
   "cell_type": "code",
   "execution_count": 29,
   "metadata": {},
   "outputs": [
    {
     "data": {
      "text/html": [
       "<div>\n",
       "<style scoped>\n",
       "    .dataframe tbody tr th:only-of-type {\n",
       "        vertical-align: middle;\n",
       "    }\n",
       "\n",
       "    .dataframe tbody tr th {\n",
       "        vertical-align: top;\n",
       "    }\n",
       "\n",
       "    .dataframe thead th {\n",
       "        text-align: right;\n",
       "    }\n",
       "</style>\n",
       "<table border=\"1\" class=\"dataframe\">\n",
       "  <thead>\n",
       "    <tr style=\"text-align: right;\">\n",
       "      <th></th>\n",
       "      <th>ticker</th>\n",
       "      <th>administrador</th>\n",
       "      <th>dividend_yield</th>\n",
       "      <th>ultimo_rendimento</th>\n",
       "      <th>patrimonio_liquido</th>\n",
       "      <th>valor_patrimonial_por_cota</th>\n",
       "      <th>telefone</th>\n",
       "      <th>email</th>\n",
       "      <th>site</th>\n",
       "      <th>name</th>\n",
       "      <th>tipo_ANBIMA</th>\n",
       "      <th>registro_CVM</th>\n",
       "      <th>numero_cotas</th>\n",
       "      <th>numero_cotistas</th>\n",
       "      <th>CNPJ</th>\n",
       "      <th>cotacao</th>\n",
       "      <th>min_52_weeks</th>\n",
       "      <th>max_52_weeks</th>\n",
       "      <th>return_12_months</th>\n",
       "      <th>tipo</th>\n",
       "      <th>subtipo</th>\n",
       "      <th>date</th>\n",
       "    </tr>\n",
       "  </thead>\n",
       "  <tbody>\n",
       "    <tr>\n",
       "      <th>0</th>\n",
       "      <td>ABCP11</td>\n",
       "      <td>Rio Bravo Investimentos</td>\n",
       "      <td>0.0090</td>\n",
       "      <td>0.65</td>\n",
       "      <td>R$1,12 B</td>\n",
       "      <td>91.83</td>\n",
       "      <td>(11) 3509-6600</td>\n",
       "      <td>[email protected]</td>\n",
       "      <td>www.riobravo.com.br</td>\n",
       "      <td>FII ABC IMOB</td>\n",
       "      <td>Renda Gestão Passiva</td>\n",
       "      <td>1996-05-15 00:00:00</td>\n",
       "      <td>12203832.0</td>\n",
       "      <td>19040.0</td>\n",
       "      <td>01.201.140/0001-90</td>\n",
       "      <td>72.56</td>\n",
       "      <td>60.01</td>\n",
       "      <td>78.27</td>\n",
       "      <td>0.0404</td>\n",
       "      <td>Tijolo</td>\n",
       "      <td>Shoppings</td>\n",
       "      <td>2022-05-27</td>\n",
       "    </tr>\n",
       "    <tr>\n",
       "      <th>1</th>\n",
       "      <td>AFHI11</td>\n",
       "      <td>BTG Pactual</td>\n",
       "      <td>0.0130</td>\n",
       "      <td>1.35</td>\n",
       "      <td>R$172,46 M</td>\n",
       "      <td>96.47</td>\n",
       "      <td>21 3262-9600</td>\n",
       "      <td>[email protected]</td>\n",
       "      <td>www.btgpactual.com</td>\n",
       "      <td>FII AFHI CRI</td>\n",
       "      <td>Títulos e Valores Mobiliários Gestão Ativa</td>\n",
       "      <td>2020-10-20 00:00:00</td>\n",
       "      <td>1787671.0</td>\n",
       "      <td>7700.0</td>\n",
       "      <td>36.642.293/0001-58</td>\n",
       "      <td>103.80</td>\n",
       "      <td>88.00</td>\n",
       "      <td>103.99</td>\n",
       "      <td>0.1320</td>\n",
       "      <td>Papel</td>\n",
       "      <td>CRIs</td>\n",
       "      <td>2022-05-27</td>\n",
       "    </tr>\n",
       "    <tr>\n",
       "      <th>2</th>\n",
       "      <td>AFOF11</td>\n",
       "      <td>BRL Trust DTVM</td>\n",
       "      <td>0.0129</td>\n",
       "      <td>1.14</td>\n",
       "      <td>R$70,55 M</td>\n",
       "      <td>102.07</td>\n",
       "      <td>(11)31330350</td>\n",
       "      <td>[email protected]</td>\n",
       "      <td>www.brltrust.com.br</td>\n",
       "      <td>FII ALIANZFF</td>\n",
       "      <td>Títulos e Valores Mobiliários Gestão Ativa</td>\n",
       "      <td>2020-01-22 00:00:00</td>\n",
       "      <td>691192.0</td>\n",
       "      <td>2584.0</td>\n",
       "      <td>34.847.063/0001-08</td>\n",
       "      <td>88.03</td>\n",
       "      <td>75.05</td>\n",
       "      <td>300.00</td>\n",
       "      <td>0.3626</td>\n",
       "      <td>Papel</td>\n",
       "      <td>Fundo de Fundos</td>\n",
       "      <td>2022-05-27</td>\n",
       "    </tr>\n",
       "    <tr>\n",
       "      <th>3</th>\n",
       "      <td>AIEC11</td>\n",
       "      <td>MAF DTVM</td>\n",
       "      <td>0.0090</td>\n",
       "      <td>0.72</td>\n",
       "      <td>R$491,83 M</td>\n",
       "      <td>101.93</td>\n",
       "      <td>3223-7700</td>\n",
       "      <td>[email protected]</td>\n",
       "      <td>www.modal.com.br</td>\n",
       "      <td>FII AUTONOMY</td>\n",
       "      <td>Renda Gestão Ativa</td>\n",
       "      <td>2020-08-24 00:00:00</td>\n",
       "      <td>4824987.0</td>\n",
       "      <td>6762.0</td>\n",
       "      <td>35.765.826/0001-26</td>\n",
       "      <td>79.98</td>\n",
       "      <td>67.50</td>\n",
       "      <td>88.00</td>\n",
       "      <td>0.0870</td>\n",
       "      <td>Tijolo</td>\n",
       "      <td>Escritórios</td>\n",
       "      <td>2022-05-27</td>\n",
       "    </tr>\n",
       "    <tr>\n",
       "      <th>4</th>\n",
       "      <td>ALMI11</td>\n",
       "      <td>BTG Pactual</td>\n",
       "      <td>0.0004</td>\n",
       "      <td>0.37</td>\n",
       "      <td>R$250,49 M</td>\n",
       "      <td>2253.05</td>\n",
       "      <td>21 3262-9600</td>\n",
       "      <td>[email protected]</td>\n",
       "      <td>www.btgpactual.com</td>\n",
       "      <td>FII TORRE AL</td>\n",
       "      <td>Renda Gestão Passiva</td>\n",
       "      <td>2006-01-03 00:00:00</td>\n",
       "      <td>111177.0</td>\n",
       "      <td>3114.0</td>\n",
       "      <td>07.122.725/0001-00</td>\n",
       "      <td>930.00</td>\n",
       "      <td>830.00</td>\n",
       "      <td>1300.00</td>\n",
       "      <td>0.2119</td>\n",
       "      <td>Tijolo</td>\n",
       "      <td>Escritórios</td>\n",
       "      <td>2022-05-27</td>\n",
       "    </tr>\n",
       "  </tbody>\n",
       "</table>\n",
       "</div>"
      ],
      "text/plain": [
       "   ticker            administrador  dividend_yield  ultimo_rendimento  \\\n",
       "0  ABCP11  Rio Bravo Investimentos          0.0090               0.65   \n",
       "1  AFHI11              BTG Pactual          0.0130               1.35   \n",
       "2  AFOF11           BRL Trust DTVM          0.0129               1.14   \n",
       "3  AIEC11                 MAF DTVM          0.0090               0.72   \n",
       "4  ALMI11              BTG Pactual          0.0004               0.37   \n",
       "\n",
       "  patrimonio_liquido  valor_patrimonial_por_cota        telefone  \\\n",
       "0           R$1,12 B                       91.83  (11) 3509-6600   \n",
       "1         R$172,46 M                       96.47    21 3262-9600   \n",
       "2          R$70,55 M                      102.07    (11)31330350   \n",
       "3         R$491,83 M                      101.93       3223-7700   \n",
       "4         R$250,49 M                     2253.05    21 3262-9600   \n",
       "\n",
       "               email                 site          name  \\\n",
       "0  [email protected]  www.riobravo.com.br  FII ABC IMOB   \n",
       "1  [email protected]   www.btgpactual.com  FII AFHI CRI   \n",
       "2  [email protected]  www.brltrust.com.br  FII ALIANZFF   \n",
       "3  [email protected]     www.modal.com.br  FII AUTONOMY   \n",
       "4  [email protected]   www.btgpactual.com  FII TORRE AL   \n",
       "\n",
       "                                  tipo_ANBIMA         registro_CVM  \\\n",
       "0                        Renda Gestão Passiva  1996-05-15 00:00:00   \n",
       "1  Títulos e Valores Mobiliários Gestão Ativa  2020-10-20 00:00:00   \n",
       "2  Títulos e Valores Mobiliários Gestão Ativa  2020-01-22 00:00:00   \n",
       "3                          Renda Gestão Ativa  2020-08-24 00:00:00   \n",
       "4                        Renda Gestão Passiva  2006-01-03 00:00:00   \n",
       "\n",
       "   numero_cotas  numero_cotistas                CNPJ  cotacao  min_52_weeks  \\\n",
       "0    12203832.0          19040.0  01.201.140/0001-90    72.56         60.01   \n",
       "1     1787671.0           7700.0  36.642.293/0001-58   103.80         88.00   \n",
       "2      691192.0           2584.0  34.847.063/0001-08    88.03         75.05   \n",
       "3     4824987.0           6762.0  35.765.826/0001-26    79.98         67.50   \n",
       "4      111177.0           3114.0  07.122.725/0001-00   930.00        830.00   \n",
       "\n",
       "   max_52_weeks  return_12_months    tipo          subtipo        date  \n",
       "0         78.27            0.0404  Tijolo        Shoppings  2022-05-27  \n",
       "1        103.99            0.1320   Papel             CRIs  2022-05-27  \n",
       "2        300.00            0.3626   Papel  Fundo de Fundos  2022-05-27  \n",
       "3         88.00            0.0870  Tijolo      Escritórios  2022-05-27  \n",
       "4       1300.00            0.2119  Tijolo      Escritórios  2022-05-27  "
      ]
     },
     "execution_count": 29,
     "metadata": {},
     "output_type": "execute_result"
    }
   ],
   "source": [
    "COLUMNS_LIST = ['ultimo_rendimento',\n",
    "                'valor_patrimonial_por_cota',\n",
    "                'numero_cotas',\n",
    "                'numero_cotistas',\n",
    "                'cotacao',\n",
    "                'min_52_weeks',\n",
    "                'max_52_weeks']\n",
    "dataset = convert_string_to_float(dataset, COLUMNS_LIST)\n",
    "dataset = convert_percentages_to_float(dataset, ['dividend_yield', 'return_12_months'])\n",
    "dataset = break_tipo_FII(dataset)\n",
    "dataset['registro_CVM'] = dataset['registro_CVM'].apply(lambda x: str(convert_to_datetime(x)))\n",
    "#dataset[\"p_vp\"] = (dataset['cotacao'] / dataset['valor_patrimonial_por_cota']).replace(np.inf, np.nan)\n",
    "dataset['date'] = str(datetime.date.today() - datetime.timedelta(days=1))\n",
    "dataset.head()"
   ]
  },
  {
   "cell_type": "code",
   "execution_count": 30,
   "metadata": {},
   "outputs": [
    {
     "data": {
      "text/plain": [
       "0    0.790156\n",
       "1    1.075982\n",
       "2    0.862447\n",
       "3    0.784656\n",
       "4    0.412774\n",
       "5    1.064909\n",
       "6    1.028371\n",
       "7    1.038066\n",
       "8    1.049197\n",
       "9    1.032986\n",
       "dtype: float64"
      ]
     },
     "execution_count": 30,
     "metadata": {},
     "output_type": "execute_result"
    }
   ],
   "source": [
    "(dataset.cotacao / dataset.valor_patrimonial_por_cota).replace(np.inf, np.nan)"
   ]
  },
  {
   "cell_type": "code",
   "execution_count": 31,
   "metadata": {},
   "outputs": [
    {
     "data": {
      "text/html": [
       "<div>\n",
       "<style scoped>\n",
       "    .dataframe tbody tr th:only-of-type {\n",
       "        vertical-align: middle;\n",
       "    }\n",
       "\n",
       "    .dataframe tbody tr th {\n",
       "        vertical-align: top;\n",
       "    }\n",
       "\n",
       "    .dataframe thead th {\n",
       "        text-align: right;\n",
       "    }\n",
       "</style>\n",
       "<table border=\"1\" class=\"dataframe\">\n",
       "  <thead>\n",
       "    <tr style=\"text-align: right;\">\n",
       "      <th></th>\n",
       "      <th>ticker</th>\n",
       "      <th>administrador</th>\n",
       "      <th>dividend_yield</th>\n",
       "      <th>ultimo_rendimento</th>\n",
       "      <th>patrimonio_liquido</th>\n",
       "      <th>valor_patrimonial_por_cota</th>\n",
       "      <th>telefone</th>\n",
       "      <th>email</th>\n",
       "      <th>site</th>\n",
       "      <th>name</th>\n",
       "      <th>tipo_ANBIMA</th>\n",
       "      <th>registro_CVM</th>\n",
       "      <th>numero_cotas</th>\n",
       "      <th>numero_cotistas</th>\n",
       "      <th>CNPJ</th>\n",
       "      <th>cotacao</th>\n",
       "      <th>min_52_weeks</th>\n",
       "      <th>max_52_weeks</th>\n",
       "      <th>return_12_months</th>\n",
       "      <th>tipo</th>\n",
       "      <th>subtipo</th>\n",
       "      <th>date</th>\n",
       "    </tr>\n",
       "  </thead>\n",
       "  <tbody>\n",
       "  </tbody>\n",
       "</table>\n",
       "</div>"
      ],
      "text/plain": [
       "Empty DataFrame\n",
       "Columns: [ticker, administrador, dividend_yield, ultimo_rendimento, patrimonio_liquido, valor_patrimonial_por_cota, telefone, email, site, name, tipo_ANBIMA, registro_CVM, numero_cotas, numero_cotistas, CNPJ, cotacao, min_52_weeks, max_52_weeks, return_12_months, tipo, subtipo, date]\n",
       "Index: []"
      ]
     },
     "execution_count": 31,
     "metadata": {},
     "output_type": "execute_result"
    }
   ],
   "source": [
    "dataset[dataset.ticker == \"BTAG11\"]"
   ]
  },
  {
   "cell_type": "markdown",
   "metadata": {},
   "source": [
    "## DynamoDB"
   ]
  },
  {
   "cell_type": "code",
   "execution_count": 32,
   "metadata": {},
   "outputs": [],
   "source": [
    "import boto3\n",
    "import json\n",
    "from decimal import Decimal"
   ]
  },
  {
   "cell_type": "code",
   "execution_count": 33,
   "metadata": {},
   "outputs": [],
   "source": [
    "ticker_data_dict = dataset.to_dict(orient='records')"
   ]
  },
  {
   "cell_type": "code",
   "execution_count": 34,
   "metadata": {},
   "outputs": [],
   "source": [
    "dynamodb_resource = boto3.resource(\"dynamodb\")"
   ]
  },
  {
   "cell_type": "code",
   "execution_count": 35,
   "metadata": {},
   "outputs": [
    {
     "data": {
      "text/plain": [
       "True"
      ]
     },
     "execution_count": 35,
     "metadata": {},
     "output_type": "execute_result"
    }
   ],
   "source": [
    "batch_write(dynamodb_resource, \"fiis\", ticker_data_dict)"
   ]
  },
  {
   "cell_type": "code",
   "execution_count": 36,
   "metadata": {},
   "outputs": [
    {
     "data": {
      "text/plain": [
       "(359, 22)"
      ]
     },
     "execution_count": 36,
     "metadata": {},
     "output_type": "execute_result"
    }
   ],
   "source": [
    "table = dynamodb_resource.Table(\"fiis\")\n",
    "response = table.scan()\n",
    "df = pd.DataFrame(response['Items'])\n",
    "df.shape"
   ]
  },
  {
   "cell_type": "code",
   "execution_count": 7,
   "metadata": {},
   "outputs": [
    {
     "name": "stdout",
     "output_type": "stream",
     "text": [
      "<class 'pandas.core.frame.DataFrame'>\n",
      "RangeIndex: 2363 entries, 0 to 2362\n",
      "Data columns (total 21 columns):\n",
      " #   Column                      Non-Null Count  Dtype \n",
      "---  ------                      --------------  ----- \n",
      " 0   patrimonio_liquido          2363 non-null   object\n",
      " 1   administrador               2363 non-null   object\n",
      " 2   ticker                      2363 non-null   object\n",
      " 3   return_12_months            2363 non-null   object\n",
      " 4   telefone                    2363 non-null   object\n",
      " 5   site                        2363 non-null   object\n",
      " 6   CNPJ                        2363 non-null   object\n",
      " 7   email                       2363 non-null   object\n",
      " 8   registro_CVM                2363 non-null   object\n",
      " 9   name                        2363 non-null   object\n",
      " 10  ultimo_rendimento           2363 non-null   object\n",
      " 11  date                        2363 non-null   object\n",
      " 12  cotacao                     2363 non-null   object\n",
      " 13  numero_cotistas             2363 non-null   object\n",
      " 14  max_52_weeks                2363 non-null   object\n",
      " 15  valor_patrimonial_por_cota  2363 non-null   object\n",
      " 16  numero_cotas                2363 non-null   object\n",
      " 17  tipo_ANBIMA                 2363 non-null   object\n",
      " 18  dividend_yield              2363 non-null   object\n",
      " 19  min_52_weeks                2363 non-null   object\n",
      " 20  tipo_FII                    2363 non-null   object\n",
      "dtypes: object(21)\n",
      "memory usage: 387.8+ KB\n"
     ]
    }
   ],
   "source": [
    "df.info()"
   ]
  }
 ],
 "metadata": {
  "interpreter": {
   "hash": "6f5583cf1d9466b5c27e75c89cc6b383bed5736d6b16c51c8074d8690011a952"
  },
  "kernelspec": {
   "display_name": "Python 3.9.7 ('base')",
   "language": "python",
   "name": "python3"
  },
  "language_info": {
   "codemirror_mode": {
    "name": "ipython",
    "version": 3
   },
   "file_extension": ".py",
   "mimetype": "text/x-python",
   "name": "python",
   "nbconvert_exporter": "python",
   "pygments_lexer": "ipython3",
   "version": "3.9.7"
  },
  "orig_nbformat": 4
 },
 "nbformat": 4,
 "nbformat_minor": 2
}
