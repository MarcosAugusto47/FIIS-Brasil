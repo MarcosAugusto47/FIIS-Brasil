{
 "cells": [
  {
   "cell_type": "code",
   "execution_count": null,
   "metadata": {},
   "outputs": [],
   "source": [
    "import re \n",
    "import datetime\n",
    "import pandas as pd\n",
    "\n",
    "import urllib.request as urllib_request\n",
    "from urllib.error import URLError, HTTPError\n",
    "\n",
    "from fiis_scraping.utils.helpers import *\n",
    "from fiis_scraping.utils.functions import *\n",
    "pd.set_option('display.max_columns', 100)\n",
    "pd.set_option('display.max_rows', None)"
   ]
  },
  {
   "cell_type": "code",
   "execution_count": null,
   "metadata": {},
   "outputs": [],
   "source": [
    "URL = 'https://fiis.com.br/lista-de-fundos-imobiliarios/'\n",
    "soup = create_bsoup_object(URL)"
   ]
  },
  {
   "cell_type": "code",
   "execution_count": null,
   "metadata": {},
   "outputs": [],
   "source": [
    "tickers = get_tickers(soup)"
   ]
  },
  {
   "cell_type": "code",
   "execution_count": null,
   "metadata": {},
   "outputs": [],
   "source": [
    "dataset = create_fiis_dataframe(tickers)"
   ]
  },
  {
   "cell_type": "code",
   "execution_count": null,
   "metadata": {},
   "outputs": [],
   "source": [
    "COLUMNS_LIST = ['ultimo_rendimento',\n",
    "                'valor_patrimonial_por_cota',\n",
    "                'numero_cotas',\n",
    "                'numero_cotistas',\n",
    "                'cotacao',\n",
    "                'min_52_weeks',\n",
    "                'max_52_weeks']\n",
    "dataset = convert_string_to_float(dataset, COLUMNS_LIST)\n",
    "dataset = convert_percentages_to_float(dataset, ['dividend_yield', 'return_12_months'])\n",
    "dataset = break_tipo_FII(dataset)\n",
    "dataset['registro_CVM'] = dataset['registro_CVM'].apply(lambda x: str(convert_to_datetime(x)))\n",
    "#dataset[\"p_vp\"] = (dataset['cotacao'] / dataset['valor_patrimonial_por_cota']).replace(np.inf, np.nan)\n",
    "dataset['date'] = str(datetime.date.today() - datetime.timedelta(days=1))\n",
    "dataset.head()"
   ]
  },
  {
   "cell_type": "code",
   "execution_count": null,
   "metadata": {},
   "outputs": [],
   "source": [
    "URL = 'https://fiis.com.br/ifix/'\n",
    "df_ifix = create_ifix_dataframe(URL)\n",
    "COLUMNS_LIST = ['peso']\n",
    "df_ifix = convert_percentages_to_float(df_ifix, COLUMNS_LIST)\n",
    "df_ifix['peso'] = df_ifix['peso'].round(4)\n",
    "df_ifix['date'] = str(datetime.date.today())\n",
    "df_ifix.head()"
   ]
  },
  {
   "cell_type": "code",
   "execution_count": null,
   "metadata": {},
   "outputs": [],
   "source": [
    "df_ifix.info()"
   ]
  },
  {
   "cell_type": "markdown",
   "metadata": {},
   "source": [
    "## DynamoDB"
   ]
  },
  {
   "cell_type": "markdown",
   "metadata": {},
   "source": [
    "### Sending the fiis dataframe"
   ]
  },
  {
   "cell_type": "code",
   "execution_count": null,
   "metadata": {},
   "outputs": [],
   "source": [
    "import boto3\n",
    "import json\n",
    "from decimal import Decimal"
   ]
  },
  {
   "cell_type": "code",
   "execution_count": null,
   "metadata": {},
   "outputs": [],
   "source": [
    "#ticker_data_dict = dataset.to_dict(orient='records')\n",
    "ticker_data_dict = dataset.to_dict(orient='records')"
   ]
  },
  {
   "cell_type": "code",
   "execution_count": null,
   "metadata": {},
   "outputs": [],
   "source": [
    "dynamodb_resource = boto3.resource(\"dynamodb\")"
   ]
  },
  {
   "cell_type": "code",
   "execution_count": null,
   "metadata": {},
   "outputs": [],
   "source": [
    "batch_write(dynamodb_resource, \"fiis\", ticker_data_dict)"
   ]
  },
  {
   "cell_type": "code",
   "execution_count": null,
   "metadata": {},
   "outputs": [],
   "source": [
    "table = dynamodb_resource.Table(\"fiis\")\n",
    "response = table.scan()\n",
    "df = pd.DataFrame(response['Items'])\n",
    "df.shape"
   ]
  },
  {
   "cell_type": "code",
   "execution_count": null,
   "metadata": {},
   "outputs": [],
   "source": [
    "df.date.value_counts(dropna=False)"
   ]
  },
  {
   "cell_type": "markdown",
   "metadata": {},
   "source": [
    "### Sending the ifix dataframe"
   ]
  },
  {
   "cell_type": "code",
   "execution_count": null,
   "metadata": {},
   "outputs": [],
   "source": [
    "dataset = df_ifix"
   ]
  },
  {
   "cell_type": "code",
   "execution_count": null,
   "metadata": {},
   "outputs": [],
   "source": [
    "dynamodb_resource = boto3.resource(\"dynamodb\")\n",
    "ifix_data_dict = dataset.to_dict(orient='records')\n",
    "batch_write(dynamodb_resource, \"ifix\", ifix_data_dict)"
   ]
  },
  {
   "cell_type": "code",
   "execution_count": null,
   "metadata": {},
   "outputs": [],
   "source": []
  }
 ],
 "metadata": {
  "interpreter": {
   "hash": "6f5583cf1d9466b5c27e75c89cc6b383bed5736d6b16c51c8074d8690011a952"
  },
  "kernelspec": {
   "display_name": "Python 3.9.7 ('base')",
   "language": "python",
   "name": "python3"
  },
  "language_info": {
   "codemirror_mode": {
    "name": "ipython",
    "version": 3
   },
   "file_extension": ".py",
   "mimetype": "text/x-python",
   "name": "python",
   "nbconvert_exporter": "python",
   "pygments_lexer": "ipython3",
   "version": "3.9.7"
  },
  "orig_nbformat": 4
 },
 "nbformat": 4,
 "nbformat_minor": 2
}
