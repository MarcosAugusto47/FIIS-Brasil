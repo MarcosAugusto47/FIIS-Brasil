{
 "cells": [
  {
   "cell_type": "code",
   "execution_count": 1,
   "metadata": {},
   "outputs": [],
   "source": [
    "import re \n",
    "import datetime\n",
    "import pandas as pd\n",
    "\n",
    "import urllib.request as urllib_request\n",
    "from urllib.error import URLError, HTTPError\n",
    "\n",
    "from utils.helpers import *\n",
    "from utils.functions import *\n",
    "pd.set_option('display.max_columns', 100)\n",
    "pd.set_option('display.max_rows', None)"
   ]
  },
  {
   "cell_type": "code",
   "execution_count": 87,
   "metadata": {},
   "outputs": [],
   "source": [
    "URL = 'https://fiis.com.br/lista-de-fundos-imobiliarios/'\n",
    "soup = create_bsoup_object(URL)"
   ]
  },
  {
   "cell_type": "code",
   "execution_count": 88,
   "metadata": {},
   "outputs": [],
   "source": [
    "tickers = get_tickers(soup)"
   ]
  },
  {
   "cell_type": "code",
   "execution_count": 89,
   "metadata": {},
   "outputs": [
    {
     "name": "stdout",
     "output_type": "stream",
     "text": [
      "ABCP11\n",
      "AFHI11\n",
      "AGRX11\n",
      "AIEC11\n",
      "ALMI11\n",
      "ALZM11\n",
      "ALZR11\n",
      "ANCR11B\n",
      "APTO11\n",
      "ARCT11\n",
      "ARRI11\n",
      "ASMT11\n",
      "ATCR11\n",
      "ATSA11\n",
      "BARI11\n",
      "BBFI11B\n",
      "BBFO11\n",
      "BBGO11\n",
      "BBIM11\n",
      "BBPO11\n",
      "BBRC11\n",
      "BCFF11\n",
      "BCIA11\n",
      "BCRI11\n",
      "BICE11\n",
      "BICR11\n",
      "BIME11\n"
     ]
    },
    {
     "ename": "HTTPError",
     "evalue": "HTTP Error 429: Too Many Requests",
     "output_type": "error",
     "traceback": [
      "\u001b[1;31m---------------------------------------------------------------------------\u001b[0m",
      "\u001b[1;31mHTTPError\u001b[0m                                 Traceback (most recent call last)",
      "\u001b[1;32mC:\\Users\\MARCOS~1\\AppData\\Local\\Temp/ipykernel_3136/1433811836.py\u001b[0m in \u001b[0;36m<module>\u001b[1;34m\u001b[0m\n\u001b[1;32m----> 1\u001b[1;33m \u001b[0mdataset\u001b[0m \u001b[1;33m=\u001b[0m \u001b[0mcreate_fiis_dataframe\u001b[0m\u001b[1;33m(\u001b[0m\u001b[0mtickers\u001b[0m\u001b[1;33m)\u001b[0m\u001b[1;33m\u001b[0m\u001b[1;33m\u001b[0m\u001b[0m\n\u001b[0m",
      "\u001b[1;32mc:\\Users\\Marcos Augusto\\Desktop\\Jobs\\Side Hustle\\FIIS-Brasil\\utils\\functions.py\u001b[0m in \u001b[0;36mcreate_fiis_dataframe\u001b[1;34m(tickers)\u001b[0m\n\u001b[0;32m     35\u001b[0m         \u001b[0mprint\u001b[0m\u001b[1;33m(\u001b[0m\u001b[0mticker\u001b[0m\u001b[1;33m.\u001b[0m\u001b[0mupper\u001b[0m\u001b[1;33m(\u001b[0m\u001b[1;33m)\u001b[0m\u001b[1;33m)\u001b[0m\u001b[1;33m\u001b[0m\u001b[1;33m\u001b[0m\u001b[0m\n\u001b[0;32m     36\u001b[0m         \u001b[0murl\u001b[0m \u001b[1;33m=\u001b[0m \u001b[1;34m'https://fiis.com.br/'\u001b[0m \u001b[1;33m+\u001b[0m \u001b[0mticker\u001b[0m\u001b[1;33m\u001b[0m\u001b[1;33m\u001b[0m\u001b[0m\n\u001b[1;32m---> 37\u001b[1;33m         \u001b[0msoup\u001b[0m \u001b[1;33m=\u001b[0m \u001b[0mcreate_bsoup_object\u001b[0m\u001b[1;33m(\u001b[0m\u001b[0murl\u001b[0m\u001b[1;33m)\u001b[0m\u001b[1;33m\u001b[0m\u001b[1;33m\u001b[0m\u001b[0m\n\u001b[0m\u001b[0;32m     38\u001b[0m         \u001b[0mitems\u001b[0m \u001b[1;33m=\u001b[0m \u001b[0msoup\u001b[0m\u001b[1;33m.\u001b[0m\u001b[0mfind_all\u001b[0m\u001b[1;33m(\u001b[0m\u001b[0mclass_\u001b[0m \u001b[1;33m=\u001b[0m \u001b[1;34m'value'\u001b[0m\u001b[1;33m)\u001b[0m\u001b[1;33m\u001b[0m\u001b[1;33m\u001b[0m\u001b[0m\n\u001b[0;32m     39\u001b[0m         \u001b[0minfos\u001b[0m \u001b[1;33m=\u001b[0m \u001b[1;33m[\u001b[0m\u001b[1;33m]\u001b[0m\u001b[1;33m\u001b[0m\u001b[1;33m\u001b[0m\u001b[0m\n",
      "\u001b[1;32mc:\\Users\\Marcos Augusto\\Desktop\\Jobs\\Side Hustle\\FIIS-Brasil\\utils\\functions.py\u001b[0m in \u001b[0;36mcreate_bsoup_object\u001b[1;34m(url)\u001b[0m\n\u001b[0;32m     12\u001b[0m     \u001b[0mheaders\u001b[0m \u001b[1;33m=\u001b[0m \u001b[1;33m{\u001b[0m\u001b[1;34m'User-Agent'\u001b[0m\u001b[1;33m:\u001b[0m \u001b[1;34m'xxxx'\u001b[0m\u001b[1;33m}\u001b[0m\u001b[1;33m\u001b[0m\u001b[1;33m\u001b[0m\u001b[0m\n\u001b[0;32m     13\u001b[0m     \u001b[0mreq\u001b[0m \u001b[1;33m=\u001b[0m \u001b[0mRequest\u001b[0m\u001b[1;33m(\u001b[0m\u001b[0murl\u001b[0m\u001b[1;33m,\u001b[0m \u001b[0mheaders\u001b[0m \u001b[1;33m=\u001b[0m \u001b[0mheaders\u001b[0m\u001b[1;33m)\u001b[0m\u001b[1;33m\u001b[0m\u001b[1;33m\u001b[0m\u001b[0m\n\u001b[1;32m---> 14\u001b[1;33m     \u001b[0mresponse\u001b[0m \u001b[1;33m=\u001b[0m \u001b[0murlopen\u001b[0m\u001b[1;33m(\u001b[0m\u001b[0mreq\u001b[0m\u001b[1;33m)\u001b[0m\u001b[1;33m\u001b[0m\u001b[1;33m\u001b[0m\u001b[0m\n\u001b[0m\u001b[0;32m     15\u001b[0m     \u001b[0mhtml\u001b[0m \u001b[1;33m=\u001b[0m \u001b[0mresponse\u001b[0m\u001b[1;33m.\u001b[0m\u001b[0mread\u001b[0m\u001b[1;33m(\u001b[0m\u001b[1;33m)\u001b[0m\u001b[1;33m\u001b[0m\u001b[1;33m\u001b[0m\u001b[0m\n\u001b[0;32m     16\u001b[0m     \u001b[0mhtml\u001b[0m \u001b[1;33m=\u001b[0m \u001b[0mhtml\u001b[0m\u001b[1;33m.\u001b[0m\u001b[0mdecode\u001b[0m\u001b[1;33m(\u001b[0m\u001b[1;34m'utf-8'\u001b[0m\u001b[1;33m)\u001b[0m\u001b[1;33m\u001b[0m\u001b[1;33m\u001b[0m\u001b[0m\n",
      "\u001b[1;32mc:\\Anaconda\\lib\\urllib\\request.py\u001b[0m in \u001b[0;36murlopen\u001b[1;34m(url, data, timeout, cafile, capath, cadefault, context)\u001b[0m\n\u001b[0;32m    212\u001b[0m     \u001b[1;32melse\u001b[0m\u001b[1;33m:\u001b[0m\u001b[1;33m\u001b[0m\u001b[1;33m\u001b[0m\u001b[0m\n\u001b[0;32m    213\u001b[0m         \u001b[0mopener\u001b[0m \u001b[1;33m=\u001b[0m \u001b[0m_opener\u001b[0m\u001b[1;33m\u001b[0m\u001b[1;33m\u001b[0m\u001b[0m\n\u001b[1;32m--> 214\u001b[1;33m     \u001b[1;32mreturn\u001b[0m \u001b[0mopener\u001b[0m\u001b[1;33m.\u001b[0m\u001b[0mopen\u001b[0m\u001b[1;33m(\u001b[0m\u001b[0murl\u001b[0m\u001b[1;33m,\u001b[0m \u001b[0mdata\u001b[0m\u001b[1;33m,\u001b[0m \u001b[0mtimeout\u001b[0m\u001b[1;33m)\u001b[0m\u001b[1;33m\u001b[0m\u001b[1;33m\u001b[0m\u001b[0m\n\u001b[0m\u001b[0;32m    215\u001b[0m \u001b[1;33m\u001b[0m\u001b[0m\n\u001b[0;32m    216\u001b[0m \u001b[1;32mdef\u001b[0m \u001b[0minstall_opener\u001b[0m\u001b[1;33m(\u001b[0m\u001b[0mopener\u001b[0m\u001b[1;33m)\u001b[0m\u001b[1;33m:\u001b[0m\u001b[1;33m\u001b[0m\u001b[1;33m\u001b[0m\u001b[0m\n",
      "\u001b[1;32mc:\\Anaconda\\lib\\urllib\\request.py\u001b[0m in \u001b[0;36mopen\u001b[1;34m(self, fullurl, data, timeout)\u001b[0m\n\u001b[0;32m    521\u001b[0m         \u001b[1;32mfor\u001b[0m \u001b[0mprocessor\u001b[0m \u001b[1;32min\u001b[0m \u001b[0mself\u001b[0m\u001b[1;33m.\u001b[0m\u001b[0mprocess_response\u001b[0m\u001b[1;33m.\u001b[0m\u001b[0mget\u001b[0m\u001b[1;33m(\u001b[0m\u001b[0mprotocol\u001b[0m\u001b[1;33m,\u001b[0m \u001b[1;33m[\u001b[0m\u001b[1;33m]\u001b[0m\u001b[1;33m)\u001b[0m\u001b[1;33m:\u001b[0m\u001b[1;33m\u001b[0m\u001b[1;33m\u001b[0m\u001b[0m\n\u001b[0;32m    522\u001b[0m             \u001b[0mmeth\u001b[0m \u001b[1;33m=\u001b[0m \u001b[0mgetattr\u001b[0m\u001b[1;33m(\u001b[0m\u001b[0mprocessor\u001b[0m\u001b[1;33m,\u001b[0m \u001b[0mmeth_name\u001b[0m\u001b[1;33m)\u001b[0m\u001b[1;33m\u001b[0m\u001b[1;33m\u001b[0m\u001b[0m\n\u001b[1;32m--> 523\u001b[1;33m             \u001b[0mresponse\u001b[0m \u001b[1;33m=\u001b[0m \u001b[0mmeth\u001b[0m\u001b[1;33m(\u001b[0m\u001b[0mreq\u001b[0m\u001b[1;33m,\u001b[0m \u001b[0mresponse\u001b[0m\u001b[1;33m)\u001b[0m\u001b[1;33m\u001b[0m\u001b[1;33m\u001b[0m\u001b[0m\n\u001b[0m\u001b[0;32m    524\u001b[0m \u001b[1;33m\u001b[0m\u001b[0m\n\u001b[0;32m    525\u001b[0m         \u001b[1;32mreturn\u001b[0m \u001b[0mresponse\u001b[0m\u001b[1;33m\u001b[0m\u001b[1;33m\u001b[0m\u001b[0m\n",
      "\u001b[1;32mc:\\Anaconda\\lib\\urllib\\request.py\u001b[0m in \u001b[0;36mhttp_response\u001b[1;34m(self, request, response)\u001b[0m\n\u001b[0;32m    630\u001b[0m         \u001b[1;31m# request was successfully received, understood, and accepted.\u001b[0m\u001b[1;33m\u001b[0m\u001b[1;33m\u001b[0m\u001b[0m\n\u001b[0;32m    631\u001b[0m         \u001b[1;32mif\u001b[0m \u001b[1;32mnot\u001b[0m \u001b[1;33m(\u001b[0m\u001b[1;36m200\u001b[0m \u001b[1;33m<=\u001b[0m \u001b[0mcode\u001b[0m \u001b[1;33m<\u001b[0m \u001b[1;36m300\u001b[0m\u001b[1;33m)\u001b[0m\u001b[1;33m:\u001b[0m\u001b[1;33m\u001b[0m\u001b[1;33m\u001b[0m\u001b[0m\n\u001b[1;32m--> 632\u001b[1;33m             response = self.parent.error(\n\u001b[0m\u001b[0;32m    633\u001b[0m                 'http', request, response, code, msg, hdrs)\n\u001b[0;32m    634\u001b[0m \u001b[1;33m\u001b[0m\u001b[0m\n",
      "\u001b[1;32mc:\\Anaconda\\lib\\urllib\\request.py\u001b[0m in \u001b[0;36merror\u001b[1;34m(self, proto, *args)\u001b[0m\n\u001b[0;32m    559\u001b[0m         \u001b[1;32mif\u001b[0m \u001b[0mhttp_err\u001b[0m\u001b[1;33m:\u001b[0m\u001b[1;33m\u001b[0m\u001b[1;33m\u001b[0m\u001b[0m\n\u001b[0;32m    560\u001b[0m             \u001b[0margs\u001b[0m \u001b[1;33m=\u001b[0m \u001b[1;33m(\u001b[0m\u001b[0mdict\u001b[0m\u001b[1;33m,\u001b[0m \u001b[1;34m'default'\u001b[0m\u001b[1;33m,\u001b[0m \u001b[1;34m'http_error_default'\u001b[0m\u001b[1;33m)\u001b[0m \u001b[1;33m+\u001b[0m \u001b[0morig_args\u001b[0m\u001b[1;33m\u001b[0m\u001b[1;33m\u001b[0m\u001b[0m\n\u001b[1;32m--> 561\u001b[1;33m             \u001b[1;32mreturn\u001b[0m \u001b[0mself\u001b[0m\u001b[1;33m.\u001b[0m\u001b[0m_call_chain\u001b[0m\u001b[1;33m(\u001b[0m\u001b[1;33m*\u001b[0m\u001b[0margs\u001b[0m\u001b[1;33m)\u001b[0m\u001b[1;33m\u001b[0m\u001b[1;33m\u001b[0m\u001b[0m\n\u001b[0m\u001b[0;32m    562\u001b[0m \u001b[1;33m\u001b[0m\u001b[0m\n\u001b[0;32m    563\u001b[0m \u001b[1;31m# XXX probably also want an abstract factory that knows when it makes\u001b[0m\u001b[1;33m\u001b[0m\u001b[1;33m\u001b[0m\u001b[0m\n",
      "\u001b[1;32mc:\\Anaconda\\lib\\urllib\\request.py\u001b[0m in \u001b[0;36m_call_chain\u001b[1;34m(self, chain, kind, meth_name, *args)\u001b[0m\n\u001b[0;32m    492\u001b[0m         \u001b[1;32mfor\u001b[0m \u001b[0mhandler\u001b[0m \u001b[1;32min\u001b[0m \u001b[0mhandlers\u001b[0m\u001b[1;33m:\u001b[0m\u001b[1;33m\u001b[0m\u001b[1;33m\u001b[0m\u001b[0m\n\u001b[0;32m    493\u001b[0m             \u001b[0mfunc\u001b[0m \u001b[1;33m=\u001b[0m \u001b[0mgetattr\u001b[0m\u001b[1;33m(\u001b[0m\u001b[0mhandler\u001b[0m\u001b[1;33m,\u001b[0m \u001b[0mmeth_name\u001b[0m\u001b[1;33m)\u001b[0m\u001b[1;33m\u001b[0m\u001b[1;33m\u001b[0m\u001b[0m\n\u001b[1;32m--> 494\u001b[1;33m             \u001b[0mresult\u001b[0m \u001b[1;33m=\u001b[0m \u001b[0mfunc\u001b[0m\u001b[1;33m(\u001b[0m\u001b[1;33m*\u001b[0m\u001b[0margs\u001b[0m\u001b[1;33m)\u001b[0m\u001b[1;33m\u001b[0m\u001b[1;33m\u001b[0m\u001b[0m\n\u001b[0m\u001b[0;32m    495\u001b[0m             \u001b[1;32mif\u001b[0m \u001b[0mresult\u001b[0m \u001b[1;32mis\u001b[0m \u001b[1;32mnot\u001b[0m \u001b[1;32mNone\u001b[0m\u001b[1;33m:\u001b[0m\u001b[1;33m\u001b[0m\u001b[1;33m\u001b[0m\u001b[0m\n\u001b[0;32m    496\u001b[0m                 \u001b[1;32mreturn\u001b[0m \u001b[0mresult\u001b[0m\u001b[1;33m\u001b[0m\u001b[1;33m\u001b[0m\u001b[0m\n",
      "\u001b[1;32mc:\\Anaconda\\lib\\urllib\\request.py\u001b[0m in \u001b[0;36mhttp_error_default\u001b[1;34m(self, req, fp, code, msg, hdrs)\u001b[0m\n\u001b[0;32m    639\u001b[0m \u001b[1;32mclass\u001b[0m \u001b[0mHTTPDefaultErrorHandler\u001b[0m\u001b[1;33m(\u001b[0m\u001b[0mBaseHandler\u001b[0m\u001b[1;33m)\u001b[0m\u001b[1;33m:\u001b[0m\u001b[1;33m\u001b[0m\u001b[1;33m\u001b[0m\u001b[0m\n\u001b[0;32m    640\u001b[0m     \u001b[1;32mdef\u001b[0m \u001b[0mhttp_error_default\u001b[0m\u001b[1;33m(\u001b[0m\u001b[0mself\u001b[0m\u001b[1;33m,\u001b[0m \u001b[0mreq\u001b[0m\u001b[1;33m,\u001b[0m \u001b[0mfp\u001b[0m\u001b[1;33m,\u001b[0m \u001b[0mcode\u001b[0m\u001b[1;33m,\u001b[0m \u001b[0mmsg\u001b[0m\u001b[1;33m,\u001b[0m \u001b[0mhdrs\u001b[0m\u001b[1;33m)\u001b[0m\u001b[1;33m:\u001b[0m\u001b[1;33m\u001b[0m\u001b[1;33m\u001b[0m\u001b[0m\n\u001b[1;32m--> 641\u001b[1;33m         \u001b[1;32mraise\u001b[0m \u001b[0mHTTPError\u001b[0m\u001b[1;33m(\u001b[0m\u001b[0mreq\u001b[0m\u001b[1;33m.\u001b[0m\u001b[0mfull_url\u001b[0m\u001b[1;33m,\u001b[0m \u001b[0mcode\u001b[0m\u001b[1;33m,\u001b[0m \u001b[0mmsg\u001b[0m\u001b[1;33m,\u001b[0m \u001b[0mhdrs\u001b[0m\u001b[1;33m,\u001b[0m \u001b[0mfp\u001b[0m\u001b[1;33m)\u001b[0m\u001b[1;33m\u001b[0m\u001b[1;33m\u001b[0m\u001b[0m\n\u001b[0m\u001b[0;32m    642\u001b[0m \u001b[1;33m\u001b[0m\u001b[0m\n\u001b[0;32m    643\u001b[0m \u001b[1;32mclass\u001b[0m \u001b[0mHTTPRedirectHandler\u001b[0m\u001b[1;33m(\u001b[0m\u001b[0mBaseHandler\u001b[0m\u001b[1;33m)\u001b[0m\u001b[1;33m:\u001b[0m\u001b[1;33m\u001b[0m\u001b[1;33m\u001b[0m\u001b[0m\n",
      "\u001b[1;31mHTTPError\u001b[0m: HTTP Error 429: Too Many Requests"
     ]
    }
   ],
   "source": [
    "dataset = create_fiis_dataframe(tickers)"
   ]
  },
  {
   "cell_type": "code",
   "execution_count": null,
   "metadata": {},
   "outputs": [
    {
     "ename": "NameError",
     "evalue": "name 'dataset' is not defined",
     "output_type": "error",
     "traceback": [
      "\u001b[1;31m---------------------------------------------------------------------------\u001b[0m",
      "\u001b[1;31mNameError\u001b[0m                                 Traceback (most recent call last)",
      "\u001b[1;32mC:\\Users\\MARCOS~1\\AppData\\Local\\Temp/ipykernel_3136/1800623360.py\u001b[0m in \u001b[0;36m<module>\u001b[1;34m\u001b[0m\n\u001b[0;32m      6\u001b[0m                 \u001b[1;34m'min_52_weeks'\u001b[0m\u001b[1;33m,\u001b[0m\u001b[1;33m\u001b[0m\u001b[1;33m\u001b[0m\u001b[0m\n\u001b[0;32m      7\u001b[0m                 'max_52_weeks']\n\u001b[1;32m----> 8\u001b[1;33m \u001b[0mdataset\u001b[0m \u001b[1;33m=\u001b[0m \u001b[0mconvert_string_to_float\u001b[0m\u001b[1;33m(\u001b[0m\u001b[0mdataset\u001b[0m\u001b[1;33m,\u001b[0m \u001b[0mCOLUMNS_LIST\u001b[0m\u001b[1;33m)\u001b[0m\u001b[1;33m\u001b[0m\u001b[1;33m\u001b[0m\u001b[0m\n\u001b[0m\u001b[0;32m      9\u001b[0m \u001b[0mdataset\u001b[0m \u001b[1;33m=\u001b[0m \u001b[0mconvert_percentages_to_float\u001b[0m\u001b[1;33m(\u001b[0m\u001b[0mdataset\u001b[0m\u001b[1;33m,\u001b[0m \u001b[1;33m[\u001b[0m\u001b[1;34m'dividend_yield'\u001b[0m\u001b[1;33m,\u001b[0m \u001b[1;34m'return_12_months'\u001b[0m\u001b[1;33m]\u001b[0m\u001b[1;33m)\u001b[0m\u001b[1;33m\u001b[0m\u001b[1;33m\u001b[0m\u001b[0m\n\u001b[0;32m     10\u001b[0m \u001b[0mdataset\u001b[0m \u001b[1;33m=\u001b[0m \u001b[0mbreak_tipo_FII\u001b[0m\u001b[1;33m(\u001b[0m\u001b[0mdataset\u001b[0m\u001b[1;33m)\u001b[0m\u001b[1;33m\u001b[0m\u001b[1;33m\u001b[0m\u001b[0m\n",
      "\u001b[1;31mNameError\u001b[0m: name 'dataset' is not defined"
     ]
    }
   ],
   "source": [
    "COLUMNS_LIST = ['ultimo_rendimento',\n",
    "                'valor_patrimonial_por_cota',\n",
    "                'numero_cotas',\n",
    "                'numero_cotistas',\n",
    "                'cotacao',\n",
    "                'min_52_weeks',\n",
    "                'max_52_weeks']\n",
    "dataset = convert_string_to_float(dataset, COLUMNS_LIST)\n",
    "dataset = convert_percentages_to_float(dataset, ['dividend_yield', 'return_12_months'])\n",
    "dataset = break_tipo_FII(dataset)\n",
    "dataset['registro_CVM'] = dataset['registro_CVM'].apply(lambda x: str(convert_to_datetime(x)))\n",
    "#dataset[\"p_vp\"] = (dataset['cotacao'] / dataset['valor_patrimonial_por_cota']).replace(np.inf, np.nan)\n",
    "dataset['date'] = str(datetime.date.today() - datetime.timedelta(days=1))\n",
    "dataset.head()"
   ]
  },
  {
   "cell_type": "code",
   "execution_count": 95,
   "metadata": {},
   "outputs": [
    {
     "data": {
      "text/html": [
       "<div>\n",
       "<style scoped>\n",
       "    .dataframe tbody tr th:only-of-type {\n",
       "        vertical-align: middle;\n",
       "    }\n",
       "\n",
       "    .dataframe tbody tr th {\n",
       "        vertical-align: top;\n",
       "    }\n",
       "\n",
       "    .dataframe thead th {\n",
       "        text-align: right;\n",
       "    }\n",
       "</style>\n",
       "<table border=\"1\" class=\"dataframe\">\n",
       "  <thead>\n",
       "    <tr style=\"text-align: right;\">\n",
       "      <th></th>\n",
       "      <th>ticker</th>\n",
       "      <th>peso</th>\n",
       "      <th>date</th>\n",
       "    </tr>\n",
       "  </thead>\n",
       "  <tbody>\n",
       "    <tr>\n",
       "      <th>0</th>\n",
       "      <td>KNIP11</td>\n",
       "      <td>0.0693</td>\n",
       "      <td>2022-09-30</td>\n",
       "    </tr>\n",
       "    <tr>\n",
       "      <th>1</th>\n",
       "      <td>KNCR11</td>\n",
       "      <td>0.0373</td>\n",
       "      <td>2022-09-30</td>\n",
       "    </tr>\n",
       "    <tr>\n",
       "      <th>2</th>\n",
       "      <td>HGLG11</td>\n",
       "      <td>0.0344</td>\n",
       "      <td>2022-09-30</td>\n",
       "    </tr>\n",
       "    <tr>\n",
       "      <th>3</th>\n",
       "      <td>IRDM11</td>\n",
       "      <td>0.0332</td>\n",
       "      <td>2022-09-30</td>\n",
       "    </tr>\n",
       "    <tr>\n",
       "      <th>4</th>\n",
       "      <td>KNRI11</td>\n",
       "      <td>0.0309</td>\n",
       "      <td>2022-09-30</td>\n",
       "    </tr>\n",
       "  </tbody>\n",
       "</table>\n",
       "</div>"
      ],
      "text/plain": [
       "   ticker    peso        date\n",
       "0  KNIP11  0.0693  2022-09-30\n",
       "1  KNCR11  0.0373  2022-09-30\n",
       "2  HGLG11  0.0344  2022-09-30\n",
       "3  IRDM11  0.0332  2022-09-30\n",
       "4  KNRI11  0.0309  2022-09-30"
      ]
     },
     "execution_count": 95,
     "metadata": {},
     "output_type": "execute_result"
    }
   ],
   "source": [
    "URL = 'https://fiis.com.br/ifix/'\n",
    "df_ifix = create_ifix_dataframe(URL)\n",
    "COLUMNS_LIST = ['peso']\n",
    "df_ifix = convert_percentages_to_float(df_ifix, COLUMNS_LIST)\n",
    "df_ifix['peso'] = df_ifix['peso'].round(4)\n",
    "df_ifix['date'] = str(datetime.date.today())\n",
    "df_ifix.head()"
   ]
  },
  {
   "cell_type": "code",
   "execution_count": 40,
   "metadata": {},
   "outputs": [
    {
     "name": "stdout",
     "output_type": "stream",
     "text": [
      "<class 'pandas.core.frame.DataFrame'>\n",
      "RangeIndex: 104 entries, 0 to 103\n",
      "Data columns (total 3 columns):\n",
      " #   Column  Non-Null Count  Dtype  \n",
      "---  ------  --------------  -----  \n",
      " 0   ticker  104 non-null    object \n",
      " 1   peso    104 non-null    float64\n",
      " 2   date    104 non-null    object \n",
      "dtypes: float64(1), object(2)\n",
      "memory usage: 2.6+ KB\n"
     ]
    }
   ],
   "source": [
    "df_ifix.info()"
   ]
  },
  {
   "cell_type": "markdown",
   "metadata": {},
   "source": [
    "## DynamoDB"
   ]
  },
  {
   "cell_type": "markdown",
   "metadata": {},
   "source": [
    "### Sending the fiis dataframe"
   ]
  },
  {
   "cell_type": "code",
   "execution_count": 2,
   "metadata": {},
   "outputs": [],
   "source": [
    "import boto3\n",
    "import json\n",
    "from decimal import Decimal"
   ]
  },
  {
   "cell_type": "code",
   "execution_count": 36,
   "metadata": {},
   "outputs": [],
   "source": [
    "#ticker_data_dict = dataset.to_dict(orient='records')\n",
    "ticker_data_dict = df.to_dict(orient='records')"
   ]
  },
  {
   "cell_type": "code",
   "execution_count": 4,
   "metadata": {},
   "outputs": [],
   "source": [
    "dynamodb_resource = boto3.resource(\"dynamodb\")"
   ]
  },
  {
   "cell_type": "code",
   "execution_count": 38,
   "metadata": {},
   "outputs": [
    {
     "ename": "TypeError",
     "evalue": "Object of type Decimal is not JSON serializable",
     "output_type": "error",
     "traceback": [
      "\u001b[1;31m---------------------------------------------------------------------------\u001b[0m",
      "\u001b[1;31mTypeError\u001b[0m                                 Traceback (most recent call last)",
      "\u001b[1;32mC:\\Users\\MARCOS~1\\AppData\\Local\\Temp/ipykernel_3136/959689462.py\u001b[0m in \u001b[0;36m<module>\u001b[1;34m\u001b[0m\n\u001b[1;32m----> 1\u001b[1;33m \u001b[0mbatch_write\u001b[0m\u001b[1;33m(\u001b[0m\u001b[0mdynamodb_resource\u001b[0m\u001b[1;33m,\u001b[0m \u001b[1;34m\"fiis\"\u001b[0m\u001b[1;33m,\u001b[0m \u001b[0mticker_data_dict\u001b[0m\u001b[1;33m)\u001b[0m\u001b[1;33m\u001b[0m\u001b[1;33m\u001b[0m\u001b[0m\n\u001b[0m",
      "\u001b[1;32mc:\\Users\\Marcos Augusto\\Desktop\\Jobs\\Side Hustle\\FIIS-Brasil\\utils\\functions.py\u001b[0m in \u001b[0;36mbatch_write\u001b[1;34m(dynamodb, table_name, items)\u001b[0m\n\u001b[0;32m     97\u001b[0m         \u001b[1;32mfor\u001b[0m \u001b[0mitem\u001b[0m \u001b[1;32min\u001b[0m \u001b[0mitems\u001b[0m\u001b[1;33m:\u001b[0m\u001b[1;33m\u001b[0m\u001b[1;33m\u001b[0m\u001b[0m\n\u001b[0;32m     98\u001b[0m             \u001b[1;31m#print(item)\u001b[0m\u001b[1;33m\u001b[0m\u001b[1;33m\u001b[0m\u001b[0m\n\u001b[1;32m---> 99\u001b[1;33m             \u001b[0mitem\u001b[0m \u001b[1;33m=\u001b[0m \u001b[0mjson\u001b[0m\u001b[1;33m.\u001b[0m\u001b[0mloads\u001b[0m\u001b[1;33m(\u001b[0m\u001b[0mjson\u001b[0m\u001b[1;33m.\u001b[0m\u001b[0mdumps\u001b[0m\u001b[1;33m(\u001b[0m\u001b[0mitem\u001b[0m\u001b[1;33m)\u001b[0m\u001b[1;33m,\u001b[0m \u001b[0mparse_float\u001b[0m\u001b[1;33m=\u001b[0m\u001b[0mDecimal\u001b[0m\u001b[1;33m)\u001b[0m\u001b[1;33m\u001b[0m\u001b[1;33m\u001b[0m\u001b[0m\n\u001b[0m\u001b[0;32m    100\u001b[0m             \u001b[0mbatch\u001b[0m\u001b[1;33m.\u001b[0m\u001b[0mput_item\u001b[0m\u001b[1;33m(\u001b[0m\u001b[0mItem\u001b[0m\u001b[1;33m=\u001b[0m\u001b[0mitem\u001b[0m\u001b[1;33m)\u001b[0m\u001b[1;33m\u001b[0m\u001b[1;33m\u001b[0m\u001b[0m\n\u001b[0;32m    101\u001b[0m     \u001b[1;32mreturn\u001b[0m \u001b[1;32mTrue\u001b[0m\u001b[1;33m\u001b[0m\u001b[1;33m\u001b[0m\u001b[0m\n",
      "\u001b[1;32mc:\\Anaconda\\lib\\json\\__init__.py\u001b[0m in \u001b[0;36mdumps\u001b[1;34m(obj, skipkeys, ensure_ascii, check_circular, allow_nan, cls, indent, separators, default, sort_keys, **kw)\u001b[0m\n\u001b[0;32m    229\u001b[0m         \u001b[0mcls\u001b[0m \u001b[1;32mis\u001b[0m \u001b[1;32mNone\u001b[0m \u001b[1;32mand\u001b[0m \u001b[0mindent\u001b[0m \u001b[1;32mis\u001b[0m \u001b[1;32mNone\u001b[0m \u001b[1;32mand\u001b[0m \u001b[0mseparators\u001b[0m \u001b[1;32mis\u001b[0m \u001b[1;32mNone\u001b[0m \u001b[1;32mand\u001b[0m\u001b[1;33m\u001b[0m\u001b[1;33m\u001b[0m\u001b[0m\n\u001b[0;32m    230\u001b[0m         default is None and not sort_keys and not kw):\n\u001b[1;32m--> 231\u001b[1;33m         \u001b[1;32mreturn\u001b[0m \u001b[0m_default_encoder\u001b[0m\u001b[1;33m.\u001b[0m\u001b[0mencode\u001b[0m\u001b[1;33m(\u001b[0m\u001b[0mobj\u001b[0m\u001b[1;33m)\u001b[0m\u001b[1;33m\u001b[0m\u001b[1;33m\u001b[0m\u001b[0m\n\u001b[0m\u001b[0;32m    232\u001b[0m     \u001b[1;32mif\u001b[0m \u001b[0mcls\u001b[0m \u001b[1;32mis\u001b[0m \u001b[1;32mNone\u001b[0m\u001b[1;33m:\u001b[0m\u001b[1;33m\u001b[0m\u001b[1;33m\u001b[0m\u001b[0m\n\u001b[0;32m    233\u001b[0m         \u001b[0mcls\u001b[0m \u001b[1;33m=\u001b[0m \u001b[0mJSONEncoder\u001b[0m\u001b[1;33m\u001b[0m\u001b[1;33m\u001b[0m\u001b[0m\n",
      "\u001b[1;32mc:\\Anaconda\\lib\\json\\encoder.py\u001b[0m in \u001b[0;36mencode\u001b[1;34m(self, o)\u001b[0m\n\u001b[0;32m    197\u001b[0m         \u001b[1;31m# exceptions aren't as detailed.  The list call should be roughly\u001b[0m\u001b[1;33m\u001b[0m\u001b[1;33m\u001b[0m\u001b[0m\n\u001b[0;32m    198\u001b[0m         \u001b[1;31m# equivalent to the PySequence_Fast that ''.join() would do.\u001b[0m\u001b[1;33m\u001b[0m\u001b[1;33m\u001b[0m\u001b[0m\n\u001b[1;32m--> 199\u001b[1;33m         \u001b[0mchunks\u001b[0m \u001b[1;33m=\u001b[0m \u001b[0mself\u001b[0m\u001b[1;33m.\u001b[0m\u001b[0miterencode\u001b[0m\u001b[1;33m(\u001b[0m\u001b[0mo\u001b[0m\u001b[1;33m,\u001b[0m \u001b[0m_one_shot\u001b[0m\u001b[1;33m=\u001b[0m\u001b[1;32mTrue\u001b[0m\u001b[1;33m)\u001b[0m\u001b[1;33m\u001b[0m\u001b[1;33m\u001b[0m\u001b[0m\n\u001b[0m\u001b[0;32m    200\u001b[0m         \u001b[1;32mif\u001b[0m \u001b[1;32mnot\u001b[0m \u001b[0misinstance\u001b[0m\u001b[1;33m(\u001b[0m\u001b[0mchunks\u001b[0m\u001b[1;33m,\u001b[0m \u001b[1;33m(\u001b[0m\u001b[0mlist\u001b[0m\u001b[1;33m,\u001b[0m \u001b[0mtuple\u001b[0m\u001b[1;33m)\u001b[0m\u001b[1;33m)\u001b[0m\u001b[1;33m:\u001b[0m\u001b[1;33m\u001b[0m\u001b[1;33m\u001b[0m\u001b[0m\n\u001b[0;32m    201\u001b[0m             \u001b[0mchunks\u001b[0m \u001b[1;33m=\u001b[0m \u001b[0mlist\u001b[0m\u001b[1;33m(\u001b[0m\u001b[0mchunks\u001b[0m\u001b[1;33m)\u001b[0m\u001b[1;33m\u001b[0m\u001b[1;33m\u001b[0m\u001b[0m\n",
      "\u001b[1;32mc:\\Anaconda\\lib\\json\\encoder.py\u001b[0m in \u001b[0;36miterencode\u001b[1;34m(self, o, _one_shot)\u001b[0m\n\u001b[0;32m    255\u001b[0m                 \u001b[0mself\u001b[0m\u001b[1;33m.\u001b[0m\u001b[0mkey_separator\u001b[0m\u001b[1;33m,\u001b[0m \u001b[0mself\u001b[0m\u001b[1;33m.\u001b[0m\u001b[0mitem_separator\u001b[0m\u001b[1;33m,\u001b[0m \u001b[0mself\u001b[0m\u001b[1;33m.\u001b[0m\u001b[0msort_keys\u001b[0m\u001b[1;33m,\u001b[0m\u001b[1;33m\u001b[0m\u001b[1;33m\u001b[0m\u001b[0m\n\u001b[0;32m    256\u001b[0m                 self.skipkeys, _one_shot)\n\u001b[1;32m--> 257\u001b[1;33m         \u001b[1;32mreturn\u001b[0m \u001b[0m_iterencode\u001b[0m\u001b[1;33m(\u001b[0m\u001b[0mo\u001b[0m\u001b[1;33m,\u001b[0m \u001b[1;36m0\u001b[0m\u001b[1;33m)\u001b[0m\u001b[1;33m\u001b[0m\u001b[1;33m\u001b[0m\u001b[0m\n\u001b[0m\u001b[0;32m    258\u001b[0m \u001b[1;33m\u001b[0m\u001b[0m\n\u001b[0;32m    259\u001b[0m def _make_iterencode(markers, _default, _encoder, _indent, _floatstr,\n",
      "\u001b[1;32mc:\\Anaconda\\lib\\json\\encoder.py\u001b[0m in \u001b[0;36mdefault\u001b[1;34m(self, o)\u001b[0m\n\u001b[0;32m    177\u001b[0m \u001b[1;33m\u001b[0m\u001b[0m\n\u001b[0;32m    178\u001b[0m         \"\"\"\n\u001b[1;32m--> 179\u001b[1;33m         raise TypeError(f'Object of type {o.__class__.__name__} '\n\u001b[0m\u001b[0;32m    180\u001b[0m                         f'is not JSON serializable')\n\u001b[0;32m    181\u001b[0m \u001b[1;33m\u001b[0m\u001b[0m\n",
      "\u001b[1;31mTypeError\u001b[0m: Object of type Decimal is not JSON serializable"
     ]
    }
   ],
   "source": [
    "batch_write(dynamodb_resource, \"fiis\", ticker_data_dict)"
   ]
  },
  {
   "cell_type": "code",
   "execution_count": 13,
   "metadata": {},
   "outputs": [
    {
     "data": {
      "text/plain": [
       "(762, 22)"
      ]
     },
     "execution_count": 13,
     "metadata": {},
     "output_type": "execute_result"
    }
   ],
   "source": [
    "table = dynamodb_resource.Table(\"fiis\")\n",
    "response = table.scan()\n",
    "df = pd.DataFrame(response['Items'])\n",
    "df.shape"
   ]
  },
  {
   "cell_type": "code",
   "execution_count": 14,
   "metadata": {},
   "outputs": [
    {
     "data": {
      "text/plain": [
       "2022-09-29    381\n",
       "2022-09-30    381\n",
       "Name: date, dtype: int64"
      ]
     },
     "execution_count": 14,
     "metadata": {},
     "output_type": "execute_result"
    }
   ],
   "source": [
    "df.date.value_counts(dropna=False)"
   ]
  },
  {
   "cell_type": "code",
   "execution_count": 11,
   "metadata": {},
   "outputs": [
    {
     "data": {
      "text/plain": [
       "(208, 3)"
      ]
     },
     "execution_count": 11,
     "metadata": {},
     "output_type": "execute_result"
    }
   ],
   "source": [
    "table = dynamodb_resource.Table(\"ifix\")\n",
    "response = table.scan()\n",
    "df = pd.DataFrame(response['Items'])\n",
    "df.shape"
   ]
  },
  {
   "cell_type": "code",
   "execution_count": 12,
   "metadata": {},
   "outputs": [
    {
     "data": {
      "text/plain": [
       "2022-09-30    104\n",
       "2022-10-01    104\n",
       "Name: date, dtype: int64"
      ]
     },
     "execution_count": 12,
     "metadata": {},
     "output_type": "execute_result"
    }
   ],
   "source": [
    "df.date.value_counts(dropna=False)"
   ]
  },
  {
   "cell_type": "code",
   "execution_count": 113,
   "metadata": {},
   "outputs": [
    {
     "data": {
      "text/plain": [
       "[{'peso': Decimal('0.0088'), 'date': '2022-09-30', 'ticker': 'VGIP11'},\n",
       " {'peso': Decimal('0.0034'), 'date': '2022-09-30', 'ticker': 'RBRY11'},\n",
       " {'peso': Decimal('0.0084'), 'date': '2022-09-30', 'ticker': 'PVBI11'},\n",
       " {'peso': Decimal('0.0015'), 'date': '2022-09-30', 'ticker': 'HSAF11'},\n",
       " {'peso': Decimal('0.0026'), 'date': '2022-09-30', 'ticker': 'SADI11'},\n",
       " {'peso': Decimal('0.0029'), 'date': '2022-09-30', 'ticker': 'TEPP11'},\n",
       " {'peso': Decimal('0.0031'), 'date': '2022-09-30', 'ticker': 'VSLH11'},\n",
       " {'peso': Decimal('0.0056'), 'date': '2022-09-30', 'ticker': 'RECT11'},\n",
       " {'peso': Decimal('0.0062'), 'date': '2022-09-30', 'ticker': 'XPCI11'},\n",
       " {'peso': Decimal('0.0034'), 'date': '2022-09-30', 'ticker': 'KISU11'},\n",
       " {'peso': Decimal('0.0174'), 'date': '2022-09-30', 'ticker': 'HFOF11'},\n",
       " {'peso': Decimal('0.0145'), 'date': '2022-09-30', 'ticker': 'DEVA11'},\n",
       " {'peso': Decimal('0.0033'), 'date': '2022-09-30', 'ticker': 'PORD11'},\n",
       " {'peso': Decimal('0.0693'), 'date': '2022-09-30', 'ticker': 'KNIP11'},\n",
       " {'peso': Decimal('0.0061'), 'date': '2022-09-30', 'ticker': 'URPR11'},\n",
       " {'peso': Decimal('0.0035'), 'date': '2022-09-30', 'ticker': 'PATL11'},\n",
       " {'peso': Decimal('0.0181'), 'date': '2022-09-30', 'ticker': 'BCFF11'},\n",
       " {'peso': Decimal('0.0062'), 'date': '2022-09-30', 'ticker': 'BZLI11'},\n",
       " {'peso': Decimal('0.0017'), 'date': '2022-09-30', 'ticker': 'MORE11'},\n",
       " {'peso': Decimal('0.0034'), 'date': '2022-09-30', 'ticker': 'BLMG11'},\n",
       " {'peso': Decimal('0.0018'), 'date': '2022-09-30', 'ticker': 'PLCR11'},\n",
       " {'peso': Decimal('0.0015'), 'date': '2022-09-30', 'ticker': 'FIGS11'},\n",
       " {'peso': Decimal('0.0081'), 'date': '2022-09-30', 'ticker': 'RBRP11'},\n",
       " {'peso': Decimal('0.0019'), 'date': '2022-09-30', 'ticker': 'VTLT11'},\n",
       " {'peso': Decimal('0.0075'), 'date': '2022-09-30', 'ticker': 'KNSC11'},\n",
       " {'peso': Decimal('0.0031'), 'date': '2022-09-30', 'ticker': 'BCIA11'},\n",
       " {'peso': Decimal('0.0116'), 'date': '2022-09-30', 'ticker': 'HSML11 '},\n",
       " {'peso': Decimal('0.0044'), 'date': '2022-09-30', 'ticker': 'RCRB11'},\n",
       " {'peso': Decimal('0.0158'), 'date': '2022-09-30', 'ticker': 'JSRE11'},\n",
       " {'peso': Decimal('0.0041'), 'date': '2022-09-30', 'ticker': 'BTCR11'},\n",
       " {'peso': Decimal('0.0054'), 'date': '2022-09-30', 'ticker': 'SDIL11'},\n",
       " {'peso': Decimal('0.0032'), 'date': '2022-09-30', 'ticker': 'TORD11'},\n",
       " {'peso': Decimal('0.0061'), 'date': '2022-09-30', 'ticker': 'SARE11'},\n",
       " {'peso': Decimal('0.0253'), 'date': '2022-09-30', 'ticker': 'XPLG11'},\n",
       " {'peso': Decimal('0.0061'), 'date': '2022-09-30', 'ticker': 'RBRL11'},\n",
       " {'peso': Decimal('0.0077'), 'date': '2022-09-30', 'ticker': 'HABT11'},\n",
       " {'peso': Decimal('0.0019'), 'date': '2022-09-30', 'ticker': 'BLMR11'},\n",
       " {'peso': Decimal('0.0058'), 'date': '2022-09-30', 'ticker': 'MGFF11'},\n",
       " {'peso': Decimal('0.0033'), 'date': '2022-09-30', 'ticker': 'KFOF11'},\n",
       " {'peso': Decimal('0.0042'), 'date': '2022-09-30', 'ticker': 'VGIR11'},\n",
       " {'peso': Decimal('0.0373'), 'date': '2022-09-30', 'ticker': 'KNCR11'},\n",
       " {'peso': Decimal('0.011'), 'date': '2022-09-30', 'ticker': 'HSLG11'},\n",
       " {'peso': Decimal('0.0095'), 'date': '2022-09-30', 'ticker': 'GTWR11'},\n",
       " {'peso': Decimal('0.0017'), 'date': '2022-09-30', 'ticker': 'NCHB11'},\n",
       " {'peso': Decimal('0.0198'), 'date': '2022-09-30', 'ticker': 'HGRU11'},\n",
       " {'peso': Decimal('0.0146'), 'date': '2022-09-30', 'ticker': 'VILG11'},\n",
       " {'peso': Decimal('0.0058'), 'date': '2022-09-30', 'ticker': 'GALG11'},\n",
       " {'peso': Decimal('0.0154'), 'date': '2022-09-30', 'ticker': 'HGRE11'},\n",
       " {'peso': Decimal('0.0114'), 'date': '2022-09-30', 'ticker': 'LVBI11'},\n",
       " {'peso': Decimal('0.0107'), 'date': '2022-09-30', 'ticker': 'RBVA11'},\n",
       " {'peso': Decimal('0.0028'), 'date': '2022-09-30', 'ticker': 'OUJP11'},\n",
       " {'peso': Decimal('0.01'), 'date': '2022-09-30', 'ticker': 'CVBI11'},\n",
       " {'peso': Decimal('0.013'), 'date': '2022-09-30', 'ticker': 'TGAR11'},\n",
       " {'peso': Decimal('0.0051'), 'date': '2022-09-30', 'ticker': 'FEXC11'},\n",
       " {'peso': Decimal('0.0034'), 'date': '2022-09-30', 'ticker': 'AIEC11'},\n",
       " {'peso': Decimal('0.0063'), 'date': '2022-09-30', 'ticker': 'XPIN11'},\n",
       " {'peso': Decimal('0.002'), 'date': '2022-09-30', 'ticker': 'RBFF11'},\n",
       " {'peso': Decimal('0.0105'), 'date': '2022-09-30', 'ticker': 'RZTR11'},\n",
       " {'peso': Decimal('0.0043'), 'date': '2022-09-30', 'ticker': 'MFII11'},\n",
       " {'peso': Decimal('0.0069'), 'date': '2022-09-30', 'ticker': 'MALL11'},\n",
       " {'peso': Decimal('0.0344'), 'date': '2022-09-30', 'ticker': 'HGLG11'},\n",
       " {'peso': Decimal('0.0045'), 'date': '2022-09-30', 'ticker': 'BARI11'},\n",
       " {'peso': Decimal('0.018'), 'date': '2022-09-30', 'ticker': 'BRCR11'},\n",
       " {'peso': Decimal('0.0011'), 'date': '2022-09-30', 'ticker': 'RVBI11'},\n",
       " {'peso': Decimal('0.0021'), 'date': '2022-09-30', 'ticker': 'HGFF11'},\n",
       " {'peso': Decimal('0.0105'), 'date': '2022-09-30', 'ticker': 'GGRC11'},\n",
       " {'peso': Decimal('0.0171'), 'date': '2022-09-30', 'ticker': 'VISC11'},\n",
       " {'peso': Decimal('0.0212'), 'date': '2022-09-30', 'ticker': 'MXRF11'},\n",
       " {'peso': Decimal('0.0036'), 'date': '2022-09-30', 'ticker': 'CPFF11'},\n",
       " {'peso': Decimal('0.0137'), 'date': '2022-09-30', 'ticker': 'BBPO11'},\n",
       " {'peso': Decimal('0.0032'), 'date': '2022-09-30', 'ticker': 'VGHF11'},\n",
       " {'peso': Decimal('0.0008'), 'date': '2022-09-30', 'ticker': 'SPTW11'},\n",
       " {'peso': Decimal('0.023'), 'date': '2022-09-30', 'ticker': 'RECR11'},\n",
       " {'peso': Decimal('0.0309'), 'date': '2022-09-30', 'ticker': 'KNRI11'},\n",
       " {'peso': Decimal('0.0024'), 'date': '2022-09-30', 'ticker': 'QAGR11'},\n",
       " {'peso': Decimal('0.0091'), 'date': '2022-09-30', 'ticker': 'VINO11'},\n",
       " {'peso': Decimal('0.0017'), 'date': '2022-09-30', 'ticker': 'AFHI11'},\n",
       " {'peso': Decimal('0.0239'), 'date': '2022-09-30', 'ticker': 'HCTR11'},\n",
       " {'peso': Decimal('0.0119'), 'date': '2022-09-30', 'ticker': 'MCCI11'},\n",
       " {'peso': Decimal('0.0255'), 'date': '2022-09-30', 'ticker': 'CPTS11'},\n",
       " {'peso': Decimal('0.0047'), 'date': '2022-09-30', 'ticker': 'XPPR11'},\n",
       " {'peso': Decimal('0.002'), 'date': '2022-09-30', 'ticker': 'VIFI11'},\n",
       " {'peso': Decimal('0.0097'), 'date': '2022-09-30', 'ticker': 'RBRR11'},\n",
       " {'peso': Decimal('0.0124'), 'date': '2022-09-30', 'ticker': 'VRTA11'},\n",
       " {'peso': Decimal('0.003'), 'date': '2022-09-30', 'ticker': 'BPFF11'},\n",
       " {'peso': Decimal('0.0151'), 'date': '2022-09-30', 'ticker': 'BTLG11'},\n",
       " {'peso': Decimal('0.0036'), 'date': '2022-09-30', 'ticker': 'ARCT11'},\n",
       " {'peso': Decimal('0.0143'), 'date': '2022-09-30', 'ticker': 'KNHY11'},\n",
       " {'peso': Decimal('0.0167'), 'date': '2022-09-30', 'ticker': 'XPML11'},\n",
       " {'peso': Decimal('0.0069'), 'date': '2022-09-30', 'ticker': 'TRXF11'},\n",
       " {'peso': Decimal('0.0107'), 'date': '2022-09-30', 'ticker': 'VCJR11'},\n",
       " {'peso': Decimal('0.0055'), 'date': '2022-09-30', 'ticker': 'BTAL11'},\n",
       " {'peso': Decimal('0.0063'), 'date': '2022-09-30', 'ticker': 'ALZR11'},\n",
       " {'peso': Decimal('0.0173'), 'date': '2022-09-30', 'ticker': 'HGBS11'},\n",
       " {'peso': Decimal('0.0058'), 'date': '2022-09-30', 'ticker': 'RZAK11'},\n",
       " {'peso': Decimal('0.0162'), 'date': '2022-09-30', 'ticker': 'HGCR11'},\n",
       " {'peso': Decimal('0.0021'), 'date': '2022-09-30', 'ticker': 'SNFF11'},\n",
       " {'peso': Decimal('0.0029'), 'date': '2022-09-30', 'ticker': 'FIIB11'},\n",
       " {'peso': Decimal('0.0064'), 'date': '2022-09-30', 'ticker': 'BCRI11'},\n",
       " {'peso': Decimal('0.0004'), 'date': '2022-09-30', 'ticker': 'XPCM11'},\n",
       " {'peso': Decimal('0.0332'), 'date': '2022-09-30', 'ticker': 'IRDM11'},\n",
       " {'peso': Decimal('0.0032'), 'date': '2022-09-30', 'ticker': 'XPSF11'},\n",
       " {'peso': Decimal('0.0138'), 'date': '2022-09-30', 'ticker': 'BRCO11'},\n",
       " {'peso': Decimal('0.0098'), 'date': '2022-09-30', 'ticker': 'RBRF11'}]"
      ]
     },
     "execution_count": 113,
     "metadata": {},
     "output_type": "execute_result"
    }
   ],
   "source": [
    "df.to_dict(orient='records')"
   ]
  },
  {
   "cell_type": "markdown",
   "metadata": {},
   "source": [
    "### Sending the ifix dataframe"
   ]
  },
  {
   "cell_type": "code",
   "execution_count": 96,
   "metadata": {},
   "outputs": [],
   "source": [
    "dataset = df_ifix"
   ]
  },
  {
   "cell_type": "code",
   "execution_count": 84,
   "metadata": {},
   "outputs": [
    {
     "data": {
      "text/plain": [
       "True"
      ]
     },
     "execution_count": 84,
     "metadata": {},
     "output_type": "execute_result"
    }
   ],
   "source": [
    "dynamodb_resource = boto3.resource(\"dynamodb\")\n",
    "ifix_data_dict = dataset.to_dict(orient='records')\n",
    "batch_write(dynamodb_resource, \"ifix\", ifix_data_dict)"
   ]
  },
  {
   "cell_type": "code",
   "execution_count": 105,
   "metadata": {},
   "outputs": [],
   "source": [
    "table = dynamodb_resource.Table('ifix')\n",
    "\n",
    "with table.batch_writer(overwrite_by_pkeys=['ticker', 'date']) as batch:\n",
    "    for item in ifix_data_dict:\n",
    "        #print(item)\n",
    "        item = json.loads(json.dumps(item), parse_float=Decimal)\n",
    "        batch.put_item(Item=item)"
   ]
  }
 ],
 "metadata": {
  "interpreter": {
   "hash": "6f5583cf1d9466b5c27e75c89cc6b383bed5736d6b16c51c8074d8690011a952"
  },
  "kernelspec": {
   "display_name": "Python 3.9.7 ('base')",
   "language": "python",
   "name": "python3"
  },
  "language_info": {
   "codemirror_mode": {
    "name": "ipython",
    "version": 3
   },
   "file_extension": ".py",
   "mimetype": "text/x-python",
   "name": "python",
   "nbconvert_exporter": "python",
   "pygments_lexer": "ipython3",
   "version": "3.9.7"
  },
  "orig_nbformat": 4
 },
 "nbformat": 4,
 "nbformat_minor": 2
}
