{
 "cells": [
  {
   "cell_type": "code",
   "execution_count": 1,
   "metadata": {},
   "outputs": [],
   "source": [
    "import re \n",
    "import datetime\n",
    "import pandas as pd\n",
    "\n",
    "import urllib.request as urllib_request\n",
    "from urllib.error import URLError, HTTPError\n",
    "\n",
    "from utils.helpers import *\n",
    "from utils.functions import *\n",
    "pd.set_option('display.max_columns', 100)\n",
    "pd.set_option('display.max_rows', None)"
   ]
  },
  {
   "cell_type": "code",
   "execution_count": 2,
   "metadata": {},
   "outputs": [],
   "source": [
    "URL = 'https://fiis.com.br/lista-de-fundos-imobiliarios/'\n",
    "soup = create_bsoup_object(URL)"
   ]
  },
  {
   "cell_type": "code",
   "execution_count": 3,
   "metadata": {},
   "outputs": [],
   "source": [
    "tickers = get_tickers(soup)"
   ]
  },
  {
   "cell_type": "code",
   "execution_count": 4,
   "metadata": {},
   "outputs": [
    {
     "name": "stdout",
     "output_type": "stream",
     "text": [
      "ABCP11\n",
      "AFHI11\n",
      "AFOF11\n",
      "AIEC11\n",
      "ALMI11\n",
      "ALZR11\n",
      "ANCR11B\n",
      "APTO11\n",
      "ARCT11\n",
      "ARRI11\n"
     ]
    }
   ],
   "source": [
    "dataset = create_fiis_dataframe(tickers[0:10])"
   ]
  },
  {
   "cell_type": "code",
   "execution_count": 5,
   "metadata": {},
   "outputs": [
    {
     "data": {
      "text/html": [
       "<div>\n",
       "<style scoped>\n",
       "    .dataframe tbody tr th:only-of-type {\n",
       "        vertical-align: middle;\n",
       "    }\n",
       "\n",
       "    .dataframe tbody tr th {\n",
       "        vertical-align: top;\n",
       "    }\n",
       "\n",
       "    .dataframe thead th {\n",
       "        text-align: right;\n",
       "    }\n",
       "</style>\n",
       "<table border=\"1\" class=\"dataframe\">\n",
       "  <thead>\n",
       "    <tr style=\"text-align: right;\">\n",
       "      <th></th>\n",
       "      <th>ticker</th>\n",
       "      <th>administrador</th>\n",
       "      <th>dividend_yield</th>\n",
       "      <th>ultimo_rendimento</th>\n",
       "      <th>patrimonio_liquido</th>\n",
       "      <th>valor_patrimonial_por_cota</th>\n",
       "      <th>telefone</th>\n",
       "      <th>email</th>\n",
       "      <th>site</th>\n",
       "      <th>name</th>\n",
       "      <th>tipo_ANBIMA</th>\n",
       "      <th>registro_CVM</th>\n",
       "      <th>numero_cotas</th>\n",
       "      <th>numero_cotistas</th>\n",
       "      <th>CNPJ</th>\n",
       "      <th>cotacao</th>\n",
       "      <th>min_52_weeks</th>\n",
       "      <th>max_52_weeks</th>\n",
       "      <th>return_12_months</th>\n",
       "      <th>tipo</th>\n",
       "      <th>subtipo</th>\n",
       "      <th>date</th>\n",
       "    </tr>\n",
       "  </thead>\n",
       "  <tbody>\n",
       "    <tr>\n",
       "      <th>0</th>\n",
       "      <td>ABCP11</td>\n",
       "      <td>Rio Bravo Investimentos</td>\n",
       "      <td>0.0090</td>\n",
       "      <td>0.65</td>\n",
       "      <td>R$1,12 B</td>\n",
       "      <td>91.83</td>\n",
       "      <td>(11) 3509-6600</td>\n",
       "      <td>[email protected]</td>\n",
       "      <td>www.riobravo.com.br</td>\n",
       "      <td>FII ABC IMOB</td>\n",
       "      <td>Renda Gestão Passiva</td>\n",
       "      <td>1996-05-15 00:00:00</td>\n",
       "      <td>12203832.0</td>\n",
       "      <td>19040.0</td>\n",
       "      <td>01.201.140/0001-90</td>\n",
       "      <td>72.56</td>\n",
       "      <td>60.01</td>\n",
       "      <td>78.27</td>\n",
       "      <td>0.0404</td>\n",
       "      <td>Tijolo</td>\n",
       "      <td>Shoppings</td>\n",
       "      <td>2022-05-27</td>\n",
       "    </tr>\n",
       "    <tr>\n",
       "      <th>1</th>\n",
       "      <td>AFHI11</td>\n",
       "      <td>BTG Pactual</td>\n",
       "      <td>0.0130</td>\n",
       "      <td>1.35</td>\n",
       "      <td>R$172,46 M</td>\n",
       "      <td>96.47</td>\n",
       "      <td>21 3262-9600</td>\n",
       "      <td>[email protected]</td>\n",
       "      <td>www.btgpactual.com</td>\n",
       "      <td>FII AFHI CRI</td>\n",
       "      <td>Títulos e Valores Mobiliários Gestão Ativa</td>\n",
       "      <td>2020-10-20 00:00:00</td>\n",
       "      <td>1787671.0</td>\n",
       "      <td>7700.0</td>\n",
       "      <td>36.642.293/0001-58</td>\n",
       "      <td>103.80</td>\n",
       "      <td>88.00</td>\n",
       "      <td>103.99</td>\n",
       "      <td>0.1320</td>\n",
       "      <td>Papel</td>\n",
       "      <td>CRIs</td>\n",
       "      <td>2022-05-27</td>\n",
       "    </tr>\n",
       "    <tr>\n",
       "      <th>2</th>\n",
       "      <td>AFOF11</td>\n",
       "      <td>BRL Trust DTVM</td>\n",
       "      <td>0.0129</td>\n",
       "      <td>1.14</td>\n",
       "      <td>R$70,55 M</td>\n",
       "      <td>102.07</td>\n",
       "      <td>(11)31330350</td>\n",
       "      <td>[email protected]</td>\n",
       "      <td>www.brltrust.com.br</td>\n",
       "      <td>FII ALIANZFF</td>\n",
       "      <td>Títulos e Valores Mobiliários Gestão Ativa</td>\n",
       "      <td>2020-01-22 00:00:00</td>\n",
       "      <td>691192.0</td>\n",
       "      <td>2584.0</td>\n",
       "      <td>34.847.063/0001-08</td>\n",
       "      <td>88.03</td>\n",
       "      <td>75.05</td>\n",
       "      <td>300.00</td>\n",
       "      <td>0.3626</td>\n",
       "      <td>Papel</td>\n",
       "      <td>Fundo de Fundos</td>\n",
       "      <td>2022-05-27</td>\n",
       "    </tr>\n",
       "    <tr>\n",
       "      <th>3</th>\n",
       "      <td>AIEC11</td>\n",
       "      <td>MAF DTVM</td>\n",
       "      <td>0.0090</td>\n",
       "      <td>0.72</td>\n",
       "      <td>R$491,83 M</td>\n",
       "      <td>101.93</td>\n",
       "      <td>3223-7700</td>\n",
       "      <td>[email protected]</td>\n",
       "      <td>www.modal.com.br</td>\n",
       "      <td>FII AUTONOMY</td>\n",
       "      <td>Renda Gestão Ativa</td>\n",
       "      <td>2020-08-24 00:00:00</td>\n",
       "      <td>4824987.0</td>\n",
       "      <td>6762.0</td>\n",
       "      <td>35.765.826/0001-26</td>\n",
       "      <td>79.98</td>\n",
       "      <td>67.50</td>\n",
       "      <td>88.00</td>\n",
       "      <td>0.0870</td>\n",
       "      <td>Tijolo</td>\n",
       "      <td>Escritórios</td>\n",
       "      <td>2022-05-27</td>\n",
       "    </tr>\n",
       "    <tr>\n",
       "      <th>4</th>\n",
       "      <td>ALMI11</td>\n",
       "      <td>BTG Pactual</td>\n",
       "      <td>0.0004</td>\n",
       "      <td>0.37</td>\n",
       "      <td>R$250,49 M</td>\n",
       "      <td>2253.05</td>\n",
       "      <td>21 3262-9600</td>\n",
       "      <td>[email protected]</td>\n",
       "      <td>www.btgpactual.com</td>\n",
       "      <td>FII TORRE AL</td>\n",
       "      <td>Renda Gestão Passiva</td>\n",
       "      <td>2006-01-03 00:00:00</td>\n",
       "      <td>111177.0</td>\n",
       "      <td>3114.0</td>\n",
       "      <td>07.122.725/0001-00</td>\n",
       "      <td>930.00</td>\n",
       "      <td>830.00</td>\n",
       "      <td>1300.00</td>\n",
       "      <td>0.2119</td>\n",
       "      <td>Tijolo</td>\n",
       "      <td>Escritórios</td>\n",
       "      <td>2022-05-27</td>\n",
       "    </tr>\n",
       "  </tbody>\n",
       "</table>\n",
       "</div>"
      ],
      "text/plain": [
       "   ticker            administrador  dividend_yield  ultimo_rendimento  \\\n",
       "0  ABCP11  Rio Bravo Investimentos          0.0090               0.65   \n",
       "1  AFHI11              BTG Pactual          0.0130               1.35   \n",
       "2  AFOF11           BRL Trust DTVM          0.0129               1.14   \n",
       "3  AIEC11                 MAF DTVM          0.0090               0.72   \n",
       "4  ALMI11              BTG Pactual          0.0004               0.37   \n",
       "\n",
       "  patrimonio_liquido  valor_patrimonial_por_cota        telefone  \\\n",
       "0           R$1,12 B                       91.83  (11) 3509-6600   \n",
       "1         R$172,46 M                       96.47    21 3262-9600   \n",
       "2          R$70,55 M                      102.07    (11)31330350   \n",
       "3         R$491,83 M                      101.93       3223-7700   \n",
       "4         R$250,49 M                     2253.05    21 3262-9600   \n",
       "\n",
       "               email                 site          name  \\\n",
       "0  [email protected]  www.riobravo.com.br  FII ABC IMOB   \n",
       "1  [email protected]   www.btgpactual.com  FII AFHI CRI   \n",
       "2  [email protected]  www.brltrust.com.br  FII ALIANZFF   \n",
       "3  [email protected]     www.modal.com.br  FII AUTONOMY   \n",
       "4  [email protected]   www.btgpactual.com  FII TORRE AL   \n",
       "\n",
       "                                  tipo_ANBIMA         registro_CVM  \\\n",
       "0                        Renda Gestão Passiva  1996-05-15 00:00:00   \n",
       "1  Títulos e Valores Mobiliários Gestão Ativa  2020-10-20 00:00:00   \n",
       "2  Títulos e Valores Mobiliários Gestão Ativa  2020-01-22 00:00:00   \n",
       "3                          Renda Gestão Ativa  2020-08-24 00:00:00   \n",
       "4                        Renda Gestão Passiva  2006-01-03 00:00:00   \n",
       "\n",
       "   numero_cotas  numero_cotistas                CNPJ  cotacao  min_52_weeks  \\\n",
       "0    12203832.0          19040.0  01.201.140/0001-90    72.56         60.01   \n",
       "1     1787671.0           7700.0  36.642.293/0001-58   103.80         88.00   \n",
       "2      691192.0           2584.0  34.847.063/0001-08    88.03         75.05   \n",
       "3     4824987.0           6762.0  35.765.826/0001-26    79.98         67.50   \n",
       "4      111177.0           3114.0  07.122.725/0001-00   930.00        830.00   \n",
       "\n",
       "   max_52_weeks  return_12_months    tipo          subtipo        date  \n",
       "0         78.27            0.0404  Tijolo        Shoppings  2022-05-27  \n",
       "1        103.99            0.1320   Papel             CRIs  2022-05-27  \n",
       "2        300.00            0.3626   Papel  Fundo de Fundos  2022-05-27  \n",
       "3         88.00            0.0870  Tijolo      Escritórios  2022-05-27  \n",
       "4       1300.00            0.2119  Tijolo      Escritórios  2022-05-27  "
      ]
     },
     "execution_count": 5,
     "metadata": {},
     "output_type": "execute_result"
    }
   ],
   "source": [
    "COLUMNS_LIST = ['ultimo_rendimento',\n",
    "                'valor_patrimonial_por_cota',\n",
    "                'numero_cotas',\n",
    "                'numero_cotistas',\n",
    "                'cotacao',\n",
    "                'min_52_weeks',\n",
    "                'max_52_weeks']\n",
    "dataset = convert_string_to_float(dataset, COLUMNS_LIST)\n",
    "dataset = convert_percentages_to_float(dataset, ['dividend_yield', 'return_12_months'])\n",
    "dataset = break_tipo_FII(dataset)\n",
    "dataset['registro_CVM'] = dataset['registro_CVM'].apply(lambda x: str(convert_to_datetime(x)))\n",
    "#dataset[\"p_vp\"] = (dataset['cotacao'] / dataset['valor_patrimonial_por_cota']).replace(np.inf, np.nan)\n",
    "dataset['date'] = str(datetime.date.today() - datetime.timedelta(days=1))\n",
    "dataset.head()"
   ]
  },
  {
   "cell_type": "code",
   "execution_count": 12,
   "metadata": {},
   "outputs": [
    {
     "data": {
      "text/html": [
       "<div>\n",
       "<style scoped>\n",
       "    .dataframe tbody tr th:only-of-type {\n",
       "        vertical-align: middle;\n",
       "    }\n",
       "\n",
       "    .dataframe tbody tr th {\n",
       "        vertical-align: top;\n",
       "    }\n",
       "\n",
       "    .dataframe thead th {\n",
       "        text-align: right;\n",
       "    }\n",
       "</style>\n",
       "<table border=\"1\" class=\"dataframe\">\n",
       "  <thead>\n",
       "    <tr style=\"text-align: right;\">\n",
       "      <th></th>\n",
       "      <th>ticker</th>\n",
       "      <th>peso</th>\n",
       "      <th>date</th>\n",
       "    </tr>\n",
       "  </thead>\n",
       "  <tbody>\n",
       "    <tr>\n",
       "      <th>0</th>\n",
       "      <td>KNIP11</td>\n",
       "      <td>0.06933</td>\n",
       "      <td>2022-05-28</td>\n",
       "    </tr>\n",
       "    <tr>\n",
       "      <th>1</th>\n",
       "      <td>KNCR11</td>\n",
       "      <td>0.03734</td>\n",
       "      <td>2022-05-28</td>\n",
       "    </tr>\n",
       "    <tr>\n",
       "      <th>2</th>\n",
       "      <td>HGLG11</td>\n",
       "      <td>0.03440</td>\n",
       "      <td>2022-05-28</td>\n",
       "    </tr>\n",
       "    <tr>\n",
       "      <th>3</th>\n",
       "      <td>IRDM11</td>\n",
       "      <td>0.03319</td>\n",
       "      <td>2022-05-28</td>\n",
       "    </tr>\n",
       "    <tr>\n",
       "      <th>4</th>\n",
       "      <td>KNRI11</td>\n",
       "      <td>0.03092</td>\n",
       "      <td>2022-05-28</td>\n",
       "    </tr>\n",
       "  </tbody>\n",
       "</table>\n",
       "</div>"
      ],
      "text/plain": [
       "   ticker     peso        date\n",
       "0  KNIP11  0.06933  2022-05-28\n",
       "1  KNCR11  0.03734  2022-05-28\n",
       "2  HGLG11  0.03440  2022-05-28\n",
       "3  IRDM11  0.03319  2022-05-28\n",
       "4  KNRI11  0.03092  2022-05-28"
      ]
     },
     "execution_count": 12,
     "metadata": {},
     "output_type": "execute_result"
    }
   ],
   "source": [
    "URL = 'https://fiis.com.br/ifix/'\n",
    "df_ifix = create_ifix_dataframe(URL)\n",
    "COLUMNS_LIST = ['peso']\n",
    "df_ifix = convert_percentages_to_float(df_ifix, COLUMNS_LIST)\n",
    "df_ifix['date'] = str(datetime.date.today())\n",
    "df_ifix.head()"
   ]
  },
  {
   "cell_type": "markdown",
   "metadata": {},
   "source": [
    "## DynamoDB"
   ]
  },
  {
   "cell_type": "markdown",
   "metadata": {},
   "source": [
    "### Sending the fiis dataframe"
   ]
  },
  {
   "cell_type": "code",
   "execution_count": 8,
   "metadata": {},
   "outputs": [],
   "source": [
    "import boto3\n",
    "import json\n",
    "from decimal import Decimal"
   ]
  },
  {
   "cell_type": "code",
   "execution_count": 33,
   "metadata": {},
   "outputs": [],
   "source": [
    "ticker_data_dict = dataset.to_dict(orient='records')"
   ]
  },
  {
   "cell_type": "code",
   "execution_count": 34,
   "metadata": {},
   "outputs": [],
   "source": [
    "dynamodb_resource = boto3.resource(\"dynamodb\")"
   ]
  },
  {
   "cell_type": "code",
   "execution_count": 35,
   "metadata": {},
   "outputs": [
    {
     "data": {
      "text/plain": [
       "True"
      ]
     },
     "execution_count": 35,
     "metadata": {},
     "output_type": "execute_result"
    }
   ],
   "source": [
    "batch_write(dynamodb_resource, \"fiis\", ticker_data_dict)"
   ]
  },
  {
   "cell_type": "code",
   "execution_count": 36,
   "metadata": {},
   "outputs": [
    {
     "data": {
      "text/plain": [
       "(359, 22)"
      ]
     },
     "execution_count": 36,
     "metadata": {},
     "output_type": "execute_result"
    }
   ],
   "source": [
    "table = dynamodb_resource.Table(\"fiis\")\n",
    "response = table.scan()\n",
    "df = pd.DataFrame(response['Items'])\n",
    "df.shape"
   ]
  },
  {
   "cell_type": "markdown",
   "metadata": {},
   "source": [
    "### Sending the ifix dataframe"
   ]
  },
  {
   "cell_type": "code",
   "execution_count": 10,
   "metadata": {},
   "outputs": [
    {
     "data": {
      "text/plain": [
       "True"
      ]
     },
     "execution_count": 10,
     "metadata": {},
     "output_type": "execute_result"
    }
   ],
   "source": [
    "dynamodb_resource = boto3.resource(\"dynamodb\")\n",
    "ifix_data_dict = dataset.to_dict(orient='records')\n",
    "batch_write(dynamodb_resource, \"fiis\", ifix_data_dict)"
   ]
  }
 ],
 "metadata": {
  "interpreter": {
   "hash": "6f5583cf1d9466b5c27e75c89cc6b383bed5736d6b16c51c8074d8690011a952"
  },
  "kernelspec": {
   "display_name": "Python 3.9.7 ('base')",
   "language": "python",
   "name": "python3"
  },
  "language_info": {
   "codemirror_mode": {
    "name": "ipython",
    "version": 3
   },
   "file_extension": ".py",
   "mimetype": "text/x-python",
   "name": "python",
   "nbconvert_exporter": "python",
   "pygments_lexer": "ipython3",
   "version": "3.9.7"
  },
  "orig_nbformat": 4
 },
 "nbformat": 4,
 "nbformat_minor": 2
}
